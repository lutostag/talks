{
 "cells": [
  {
   "cell_type": "code",
   "execution_count": null,
   "id": "professional-showcase",
   "metadata": {
    "slideshow": {
     "slide_type": "skip"
    }
   },
   "outputs": [],
   "source": [
    "rm -f *.txt *.csv\n",
    "echo \"and this is reading from a file\" > input.txt"
   ]
  },
  {
   "cell_type": "markdown",
   "id": "deadly-pollution",
   "metadata": {
    "slideshow": {
     "slide_type": "slide"
    }
   },
   "source": [
    "## Shell redirection for fun and profit\n",
    "in bash and some other shells"
   ]
  },
  {
   "cell_type": "markdown",
   "id": "sudden-migration",
   "metadata": {
    "slideshow": {
     "slide_type": "slide"
    }
   },
   "source": [
    "## Unix Philosophy\n",
    "* Write programs that do one thing and do it well.\n",
    "* Write programs to work together.\n",
    "* Write programs to handle text streams, because that is a universal interface."
   ]
  },
  {
   "cell_type": "markdown",
   "id": "taken-mainstream",
   "metadata": {
    "slideshow": {
     "slide_type": "slide"
    }
   },
   "source": [
    "## Standard output"
   ]
  },
  {
   "cell_type": "code",
   "execution_count": null,
   "id": "convenient-satisfaction",
   "metadata": {
    "slideshow": {
     "slide_type": "-"
    }
   },
   "outputs": [],
   "source": [
    "echo \"standard output redirection to a file\" > output.txt\n",
    "cat output.txt"
   ]
  },
  {
   "cell_type": "code",
   "execution_count": null,
   "id": "conceptual-copying",
   "metadata": {},
   "outputs": [],
   "source": [
    "echo \"standard output appending to a file\" >> output.txt\n",
    "cat output.txt"
   ]
  },
  {
   "cell_type": "markdown",
   "id": "cathedral-surgery",
   "metadata": {
    "slideshow": {
     "slide_type": "slide"
    }
   },
   "source": [
    "## File handles\n",
    "* 0: /dev/stdin\n",
    "* 1: /dev/stdout\n",
    "* 2: /dev/stderr"
   ]
  },
  {
   "cell_type": "code",
   "execution_count": null,
   "id": "promotional-thanks",
   "metadata": {},
   "outputs": [],
   "source": [
    "# So if you want to save stderr instead...                                                                                     │        .venv/\n",
    "cat bad-file.txt 2> stderr.txt"
   ]
  },
  {
   "cell_type": "code",
   "execution_count": null,
   "id": "measured-yield",
   "metadata": {},
   "outputs": [],
   "source": [
    "cat stderr.txt"
   ]
  },
  {
   "cell_type": "code",
   "execution_count": null,
   "id": "aboriginal-difference",
   "metadata": {
    "slideshow": {
     "slide_type": "fragment"
    }
   },
   "outputs": [],
   "source": [
    "echo Standard Output >/dev/stdout\n",
    "echo Standard Error >/dev/stderr"
   ]
  },
  {
   "cell_type": "code",
   "execution_count": null,
   "id": "periodic-chester",
   "metadata": {
    "slideshow": {
     "slide_type": "fragment"
    }
   },
   "outputs": [],
   "source": [
    "ls -1 2>/dev/stdout # will combine both standard out + err into stdout"
   ]
  },
  {
   "cell_type": "code",
   "execution_count": null,
   "id": "arctic-technician",
   "metadata": {
    "slideshow": {
     "slide_type": "fragment"
    }
   },
   "outputs": [],
   "source": [
    "# you can also create new descriptors and swap ones directly...\n",
    "ls -1 3>&2 2>&1 1>&3"
   ]
  },
  {
   "cell_type": "markdown",
   "id": "reliable-network",
   "metadata": {
    "slideshow": {
     "slide_type": "slide"
    }
   },
   "source": [
    "## Pipes"
   ]
  },
  {
   "cell_type": "code",
   "execution_count": null,
   "id": "banner-praise",
   "metadata": {},
   "outputs": [],
   "source": [
    "echo \"this is passed through a pipe\" | grep -o 'passed.*'"
   ]
  },
  {
   "cell_type": "code",
   "execution_count": null,
   "id": "fixed-watts",
   "metadata": {},
   "outputs": [],
   "source": [
    "echo \"take this a step further\" | grep -o 'step.*' > saved.txt\n",
    "cat saved.txt"
   ]
  },
  {
   "cell_type": "code",
   "execution_count": null,
   "id": "activated-illness",
   "metadata": {
    "slideshow": {
     "slide_type": "fragment"
    }
   },
   "outputs": [],
   "source": [
    "echo \"tee saves input to a file and passes it thru\" | grep -o 'pass.*' | tee saved.txt | grep -o ' t.*'\n",
    "cat saved.txt"
   ]
  },
  {
   "cell_type": "code",
   "execution_count": null,
   "id": "close-breath",
   "metadata": {
    "slideshow": {
     "slide_type": "fragment"
    }
   },
   "outputs": [],
   "source": [
    "# a pipe reading from stderr (shorthand for bash >=4)\n",
    "(echo \"this is error\" >&2) |& grep -o 'error'"
   ]
  },
  {
   "cell_type": "markdown",
   "id": "regional-meditation",
   "metadata": {
    "slideshow": {
     "slide_type": "slide"
    }
   },
   "source": [
    "## Standard Input"
   ]
  },
  {
   "cell_type": "code",
   "execution_count": null,
   "id": "foreign-seating",
   "metadata": {
    "slideshow": {
     "slide_type": "-"
    }
   },
   "outputs": [],
   "source": [
    "cat input.txt"
   ]
  },
  {
   "cell_type": "code",
   "execution_count": null,
   "id": "equal-macintosh",
   "metadata": {},
   "outputs": [],
   "source": [
    "cat < input.txt"
   ]
  },
  {
   "cell_type": "code",
   "execution_count": null,
   "id": "second-spine",
   "metadata": {
    "slideshow": {
     "slide_type": "fragment"
    }
   },
   "outputs": [],
   "source": [
    "cat <<EOF\n",
    "If you have a lot of text to enter on\n",
    "different lines hardcoded, you can use a 'heredoc'\n",
    "EOF (or whatever delimiter you choose)\n",
    "will end the input as long as it is on its own line\n",
    "EOF"
   ]
  },
  {
   "cell_type": "markdown",
   "id": "advance-silver",
   "metadata": {
    "slideshow": {
     "slide_type": "slide"
    }
   },
   "source": [
    "## Subshells"
   ]
  },
  {
   "cell_type": "code",
   "execution_count": null,
   "id": "massive-butler",
   "metadata": {},
   "outputs": [],
   "source": [
    "(echo \"this is another shell\"; echo \"inception\")> one.txt\n",
    "cat one.txt\n",
    "\n",
    "# can be used for input or output\n",
    "#comm <(seq 50) <(seq 25 75)\n",
    "\n",
    "# basically creates a filehandle and passes the name to it"
   ]
  },
  {
   "cell_type": "code",
   "execution_count": null,
   "id": "painted-worst",
   "metadata": {
    "slideshow": {
     "slide_type": "fragment"
    }
   },
   "outputs": [],
   "source": [
    "(echo Standard Output >&1; echo Standard Error >&2) |& grep Standard"
   ]
  },
  {
   "cell_type": "markdown",
   "id": "material-young",
   "metadata": {
    "slideshow": {
     "slide_type": "slide"
    }
   },
   "source": [
    "## Named pipes"
   ]
  },
  {
   "cell_type": "code",
   "execution_count": null,
   "id": "mighty-intellectual",
   "metadata": {},
   "outputs": [],
   "source": [
    "mkfifo pipe.txt # will create a buffered file on disk that acts like a pipe\n",
    "ls -la pipe.txt"
   ]
  },
  {
   "cell_type": "code",
   "execution_count": null,
   "id": "stainless-bahamas",
   "metadata": {},
   "outputs": [],
   "source": [
    "echo \"I hope this sticks around...\" >> pipe.txt &\n",
    "cat pipe.txt\n",
    "\n",
    "# need to use the & to background the process since the pipe will not\n",
    "# allow writing until both ends are open"
   ]
  },
  {
   "cell_type": "markdown",
   "id": "adjacent-blend",
   "metadata": {
    "slideshow": {
     "slide_type": "slide"
    }
   },
   "source": [
    "## Gotchas"
   ]
  },
  {
   "cell_type": "code",
   "execution_count": null,
   "id": "buried-communication",
   "metadata": {},
   "outputs": [],
   "source": [
    "# dont read/write from the same file, that is racy and probably not what you want\n",
    "seq 100 > sample.txt\n",
    "cat sample.txt | grep '^1' > sample2.txt\n",
    "wc -l sample2.txt\n",
    "\n",
    "# just give them two different names instead"
   ]
  },
  {
   "cell_type": "code",
   "execution_count": null,
   "id": "negative-incident",
   "metadata": {},
   "outputs": [],
   "source": [
    "# the pipes are buffered by default (for performance)\n",
    "# if you want to be always up to date, you can use stdbuf (lower latency/lower throughput)\n",
    "bertha test| stdbuf -o0 grep ValueError"
   ]
  },
  {
   "cell_type": "markdown",
   "id": "trained-mathematics",
   "metadata": {
    "slideshow": {
     "slide_type": "slide"
    }
   },
   "source": [
    "## Just some fun"
   ]
  },
  {
   "cell_type": "code",
   "execution_count": null,
   "id": "better-badge",
   "metadata": {},
   "outputs": [],
   "source": [
    "curl -o /dev/stdout https://pastebin.com/raw/wtU7S5ST | tee >(head -n 1 > output.csv) | grep 10:00:00 >> output.csv"
   ]
  },
  {
   "cell_type": "code",
   "execution_count": null,
   "id": "corresponding-chassis",
   "metadata": {},
   "outputs": [],
   "source": [
    "cat output.csv"
   ]
  },
  {
   "cell_type": "code",
   "execution_count": null,
   "id": "improving-eating",
   "metadata": {},
   "outputs": [],
   "source": [
    " grep --exclude-dir lib --include '*.py' --no-filename --recursive -oE '^ *(import|from) *[^ .,]*' . 2>/dev/null |\n",
    "     sed -e 's/ *//' | awk '{print $2}' | sort | uniq -c | sort | tail -n 30\n"
   ]
  },
  {
   "cell_type": "markdown",
   "id": "conscious-might",
   "metadata": {
    "slideshow": {
     "slide_type": "slide"
    }
   },
   "source": [
    "## More resources\n",
    "* https://www.baeldung.com/linux/pipes-redirection\n",
    "* http://www.gnu.org/savannah-checkouts/gnu/bash/manual/bash.html#Redirections"
   ]
  }
 ],
 "metadata": {
  "celltoolbar": "Slideshow",
  "kernelspec": {
   "display_name": "Bash",
   "language": "bash",
   "name": "bash"
  },
  "language_info": {
   "codemirror_mode": "shell",
   "file_extension": ".sh",
   "mimetype": "text/x-sh",
   "name": "bash"
  },
  "rise": {
   "theme": "league"
  }
 },
 "nbformat": 4,
 "nbformat_minor": 5
}
