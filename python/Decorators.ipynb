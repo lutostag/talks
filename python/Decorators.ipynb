{
 "cells": [
  {
   "cell_type": "markdown",
   "metadata": {
    "slideshow": {
     "slide_type": "slide"
    }
   },
   "source": [
    "<center><h1>@decorators</h1></center>\n",
    "  \n",
    "Greg Lutostanski\n",
    "\n",
    "[github.com/lutostag](https://github.com/lutostag)\n",
    "\n",
    "Software Developer\n",
    "    \n",
    "  \n",
    "![Canonical](https://assets.ubuntu.com/v1/5d6da5c4-logo-canonical-aubergine.svg)"
   ]
  },
  {
   "cell_type": "markdown",
   "metadata": {
    "slideshow": {
     "slide_type": "slide"
    }
   },
   "source": [
    "# Decorators\n",
    "* wrappers for functions, classes, or methods\n",
    "* more functionality\n",
    "* defined as functions or classes\n",
    "* called with the \"@\" symbol"
   ]
  },
  {
   "cell_type": "code",
   "execution_count": 1,
   "metadata": {
    "collapsed": true,
    "slideshow": {
     "slide_type": "skip"
    }
   },
   "outputs": [],
   "source": [
    "def decorator(func):\n",
    "    return func"
   ]
  },
  {
   "cell_type": "code",
   "execution_count": 2,
   "metadata": {
    "collapsed": false,
    "slideshow": {
     "slide_type": "-"
    }
   },
   "outputs": [],
   "source": [
    "@decorator\n",
    "def method():\n",
    "    pass"
   ]
  },
  {
   "cell_type": "code",
   "execution_count": 3,
   "metadata": {
    "collapsed": true,
    "slideshow": {
     "slide_type": "skip"
    }
   },
   "outputs": [],
   "source": [
    "def multiply_by_three(func):\n",
    "    def wrapper(*args, **kwargs):\n",
    "        return func(*args, **kwargs) * 3\n",
    "    return wrapper"
   ]
  },
  {
   "cell_type": "code",
   "execution_count": 4,
   "metadata": {
    "collapsed": false,
    "slideshow": {
     "slide_type": "slide"
    }
   },
   "outputs": [
    {
     "name": "stdout",
     "output_type": "stream",
     "text": [
      "9\n"
     ]
    }
   ],
   "source": [
    "@multiply_by_three\n",
    "def fake_add(a, b):\n",
    "    return a + b\n",
    "\n",
    "print(fake_add(1, 2))"
   ]
  },
  {
   "cell_type": "code",
   "execution_count": 5,
   "metadata": {
    "collapsed": false
   },
   "outputs": [
    {
     "name": "stdout",
     "output_type": "stream",
     "text": [
      "9\n"
     ]
    }
   ],
   "source": [
    "# same as\n",
    "def fake_add(a, b):\n",
    "    return a + b\n",
    "\n",
    "fake_add = multiply_by_three(fake_add)\n",
    "\n",
    "print(fake_add(1, 2))"
   ]
  },
  {
   "cell_type": "markdown",
   "metadata": {
    "slideshow": {
     "slide_type": "slide"
    }
   },
   "source": [
    "So we know a bit of how they work.\n",
    "\n",
    "What are some of the uses?\n",
    "* retries\n",
    "* cache\n",
    "* logging"
   ]
  },
  {
   "cell_type": "markdown",
   "metadata": {
    "slideshow": {
     "slide_type": "fragment"
    }
   },
   "source": [
    "locking, deprecating, disabling"
   ]
  },
  {
   "cell_type": "code",
   "execution_count": 6,
   "metadata": {
    "collapsed": true,
    "slideshow": {
     "slide_type": "slide"
    }
   },
   "outputs": [],
   "source": [
    "def multiply_by_three(func):\n",
    "    def wrapper(*args, **kwargs):\n",
    "        return func(*args, **kwargs) * 3\n",
    "    return wrapper\n",
    "\n",
    "\n",
    "@multiply_by_three\n",
    "def fake_add(a, b):\n",
    "    return a + b"
   ]
  },
  {
   "cell_type": "code",
   "execution_count": 7,
   "metadata": {
    "collapsed": false,
    "slideshow": {
     "slide_type": "slide"
    }
   },
   "outputs": [
    {
     "name": "stdout",
     "output_type": "stream",
     "text": [
      "16\n"
     ]
    }
   ],
   "source": [
    "# what about arguments to the decorator?\n",
    "\n",
    "def multiply_by(number):\n",
    "    def outer_wrapper(func):\n",
    "        def wrapper(*args, **kwargs):\n",
    "            return func(*args, **kwargs) * number\n",
    "        return wrapper\n",
    "    return outer_wrapper\n",
    "\n",
    "@multiply_by(4)\n",
    "def fake_add(a, b):\n",
    "    return a + b\n",
    "\n",
    "print(fake_add(1, 3))"
   ]
  },
  {
   "cell_type": "markdown",
   "metadata": {
    "slideshow": {
     "slide_type": "slide"
    }
   },
   "source": [
    "* property\n",
    "* staticmethod\n",
    "* classmethod\n",
    "* functools.lru_cache\n",
    "* functools.total_ordering\n",
    "* unittest.mock.patch\n",
    "* asyncio.coroutine\n",
    "* contextlib.contextmanager"
   ]
  }
 ],
 "metadata": {
  "celltoolbar": "Slideshow",
  "kernelspec": {
   "display_name": "Python 3",
   "language": "python",
   "name": "python3"
  },
  "language_info": {
   "codemirror_mode": {
    "name": "ipython",
    "version": 3
   },
   "file_extension": ".py",
   "mimetype": "text/x-python",
   "name": "python",
   "nbconvert_exporter": "python",
   "pygments_lexer": "ipython3",
   "version": "3.6.3"
  }
 },
 "nbformat": 4,
 "nbformat_minor": 2
}
