{
 "cells": [
  {
   "cell_type": "markdown",
   "metadata": {
    "slideshow": {
     "slide_type": "skip"
    }
   },
   "source": [
    "[View as slides](https://nbviewer.jupyter.org/format/slides/github/lutostag/talks/blob/master/python/Decorators.ipynb#/)"
   ]
  },
  {
   "cell_type": "markdown",
   "metadata": {
    "slideshow": {
     "slide_type": "slide"
    }
   },
   "source": [
    "<center><h1>@decorators</h1></center>\n",
    "  \n",
    "Greg Lutostanski\n",
    "\n",
    "[github.com/lutostag](https://github.com/lutostag)\n",
    "\n",
    "Software Developer\n",
    "    \n",
    "  \n",
    "![Canonical](https://assets.ubuntu.com/v1/5d6da5c4-logo-canonical-aubergine.svg)"
   ]
  },
  {
   "cell_type": "markdown",
   "metadata": {
    "slideshow": {
     "slide_type": "slide"
    }
   },
   "source": [
    "# Decorators\n",
    "* wrappers for functions, classes, or methods\n",
    "* more functionality\n",
    "* defined as functions or classes\n",
    "* called with the \"@\" symbol"
   ]
  },
  {
   "cell_type": "code",
   "execution_count": 2,
   "metadata": {
    "collapsed": true,
    "slideshow": {
     "slide_type": "skip"
    }
   },
   "outputs": [],
   "source": [
    "def decorator(func):\n",
    "    return func"
   ]
  },
  {
   "cell_type": "code",
   "execution_count": 3,
   "metadata": {
    "collapsed": false,
    "slideshow": {
     "slide_type": "-"
    }
   },
   "outputs": [],
   "source": [
    "@decorator\n",
    "def method():\n",
    "    pass"
   ]
  },
  {
   "cell_type": "code",
   "execution_count": null,
   "metadata": {
    "collapsed": true,
    "slideshow": {
     "slide_type": "slide"
    }
   },
   "outputs": [],
   "source": [
    "class Thing:\n",
    "    @property\n",
    "    def attribute(self):\n",
    "        return \"Makes a function a property\"\n",
    "    \n",
    "    @classmethod\n",
    "    def classy(cls):\n",
    "        return \"Runs without an instantiation\"\n",
    "    \n",
    "    @staticmethod\n",
    "    def static(arg):\n",
    "        return \"Runs without any class or instantiation\"\n",
    "    \n",
    "# realpython.com/blog/python/instance-class-and-static-methods-demystified/"
   ]
  },
  {
   "cell_type": "code",
   "execution_count": 45,
   "metadata": {
    "collapsed": false,
    "slideshow": {
     "slide_type": "slide"
    }
   },
   "outputs": [
    {
     "data": {
      "text/plain": [
       "9227465"
      ]
     },
     "execution_count": 45,
     "metadata": {},
     "output_type": "execute_result"
    }
   ],
   "source": [
    "def fibonacci(n):\n",
    "    if n <= 0:\n",
    "        return 0\n",
    "    if n == 1:\n",
    "        return 1\n",
    "    return fibonacci(n - 1) + fibonacci(n - 2)\n",
    "\n",
    "fibonacci(35)"
   ]
  },
  {
   "cell_type": "code",
   "execution_count": 46,
   "metadata": {
    "collapsed": false,
    "slideshow": {
     "slide_type": "subslide"
    }
   },
   "outputs": [
    {
     "data": {
      "text/plain": [
       "9227465"
      ]
     },
     "execution_count": 46,
     "metadata": {},
     "output_type": "execute_result"
    }
   ],
   "source": [
    "from functools import lru_cache\n",
    "\n",
    "@lru_cache(maxsize=50)\n",
    "def fibonacci(n):\n",
    "    if n <= 0:\n",
    "        return 0\n",
    "    if n == 1:\n",
    "        return 1\n",
    "    return fibonacci(n - 1) + fibonacci(n - 2)\n",
    "\n",
    "fibonacci(35)"
   ]
  },
  {
   "cell_type": "markdown",
   "metadata": {
    "slideshow": {
     "slide_type": "slide"
    }
   },
   "source": [
    "We know a bit of how to use them\n",
    "\n",
    "# What are some other uses?\n",
    "* retries\n",
    "* cache\n",
    "* logging"
   ]
  },
  {
   "cell_type": "markdown",
   "metadata": {
    "slideshow": {
     "slide_type": "fragment"
    }
   },
   "source": [
    "locking, deprecating, disabling, singleton, authentication, authorization, timing"
   ]
  },
  {
   "cell_type": "markdown",
   "metadata": {
    "slideshow": {
     "slide_type": "fragment"
    }
   },
   "source": [
    "More at [github.com/lord63/awesome-python-decorator](https://github.com/lord63/awesome-python-decorator)"
   ]
  },
  {
   "cell_type": "code",
   "execution_count": 4,
   "metadata": {
    "collapsed": true,
    "slideshow": {
     "slide_type": "skip"
    }
   },
   "outputs": [],
   "source": [
    "def multiply_by_three(func):\n",
    "    def wrapper(*args, **kwargs):\n",
    "        return func(*args, **kwargs) * 3\n",
    "    return wrapper"
   ]
  },
  {
   "cell_type": "code",
   "execution_count": 5,
   "metadata": {
    "collapsed": false,
    "slideshow": {
     "slide_type": "slide"
    }
   },
   "outputs": [
    {
     "name": "stdout",
     "output_type": "stream",
     "text": [
      "9\n"
     ]
    }
   ],
   "source": [
    "@multiply_by_three\n",
    "def fake_add(a, b):\n",
    "    return a + b\n",
    "\n",
    "print(fake_add(1, 2))"
   ]
  },
  {
   "cell_type": "code",
   "execution_count": 6,
   "metadata": {
    "collapsed": false
   },
   "outputs": [
    {
     "name": "stdout",
     "output_type": "stream",
     "text": [
      "9\n"
     ]
    }
   ],
   "source": [
    "# same as\n",
    "def fake_add(a, b):\n",
    "    return a + b\n",
    "\n",
    "fake_add = multiply_by_three(fake_add)\n",
    "\n",
    "print(fake_add(1, 2))"
   ]
  },
  {
   "cell_type": "code",
   "execution_count": 7,
   "metadata": {
    "collapsed": true,
    "slideshow": {
     "slide_type": "slide"
    }
   },
   "outputs": [],
   "source": [
    "def multiply_by_three(func):\n",
    "    def wrapper(*args, **kwargs):\n",
    "        return func(*args, **kwargs) * 3\n",
    "    return wrapper\n",
    "\n",
    "\n",
    "@multiply_by_three\n",
    "def fake_add(a, b):\n",
    "    return a + b"
   ]
  },
  {
   "cell_type": "code",
   "execution_count": 8,
   "metadata": {
    "collapsed": false,
    "slideshow": {
     "slide_type": "slide"
    }
   },
   "outputs": [
    {
     "name": "stdout",
     "output_type": "stream",
     "text": [
      "16\n"
     ]
    }
   ],
   "source": [
    "# what about arguments to the decorator?\n",
    "\n",
    "def multiply_by(number):\n",
    "    def outer_wrapper(func):\n",
    "        def wrapper(*args, **kwargs):\n",
    "            return func(*args, **kwargs) * number\n",
    "        return wrapper\n",
    "    return outer_wrapper\n",
    "\n",
    "@multiply_by(4)\n",
    "def fake_add(a, b):\n",
    "    return a + b\n",
    "\n",
    "print(fake_add(1, 3))"
   ]
  },
  {
   "cell_type": "code",
   "execution_count": 9,
   "metadata": {
    "collapsed": false,
    "slideshow": {
     "slide_type": "slide"
    }
   },
   "outputs": [
    {
     "name": "stdout",
     "output_type": "stream",
     "text": [
      "first\n",
      "second\n",
      "yes we can!\n"
     ]
    }
   ],
   "source": [
    "# can we stack them?\n",
    "\n",
    "def logging(string):\n",
    "    def outer_wrapper(func):\n",
    "        def wrapper(*args, **kwargs):\n",
    "            print(string)\n",
    "            return func(*args, **kwargs)\n",
    "        return wrapper\n",
    "    return outer_wrapper\n",
    "\n",
    "@logging('first')\n",
    "@logging('second')\n",
    "def something():\n",
    "    print('yes we can!')\n",
    "    \n",
    "something()"
   ]
  },
  {
   "cell_type": "markdown",
   "metadata": {
    "slideshow": {
     "slide_type": "slide"
    }
   },
   "source": [
    "# Gotchas"
   ]
  },
  {
   "cell_type": "code",
   "execution_count": 10,
   "metadata": {
    "collapsed": false,
    "slideshow": {
     "slide_type": "subslide"
    }
   },
   "outputs": [
    {
     "name": "stdout",
     "output_type": "stream",
     "text": [
      "None\n"
     ]
    }
   ],
   "source": [
    "# Always use functools.wraps\n",
    "\n",
    "def logging(string):\n",
    "    def outer_wrapper(func):\n",
    "        def wrapper(*args, **kwargs):\n",
    "            print(string)\n",
    "            return func(*args, **kwargs)\n",
    "        return wrapper\n",
    "    return outer_wrapper\n",
    "\n",
    "@logging('one')\n",
    "def something():\n",
    "    \"\"\"Docstring\"\"\"\n",
    "    print(5)\n",
    "\n",
    "print(something.__doc__)"
   ]
  },
  {
   "cell_type": "code",
   "execution_count": 11,
   "metadata": {
    "collapsed": false,
    "slideshow": {
     "slide_type": "subslide"
    }
   },
   "outputs": [
    {
     "name": "stdout",
     "output_type": "stream",
     "text": [
      "Docstring\n"
     ]
    }
   ],
   "source": [
    "from functools import wraps\n",
    "\n",
    "def logging_better(string):\n",
    "    def outer_wrapper(func):\n",
    "        @wraps(func) # yes, using a decorator to write a decorator...\n",
    "        def wrapper(*args, **kwargs):\n",
    "            print(string)\n",
    "            return func(*args, **kwargs)\n",
    "        return wrapper\n",
    "    return outer_wrapper\n",
    "\n",
    "@logging_better('one')\n",
    "def something():\n",
    "    \"\"\"Docstring\"\"\"\n",
    "    print(5)\n",
    "    \n",
    "print(something.__doc__)"
   ]
  },
  {
   "cell_type": "code",
   "execution_count": 12,
   "metadata": {
    "collapsed": true,
    "slideshow": {
     "slide_type": "subslide"
    }
   },
   "outputs": [],
   "source": [
    "# Evaluated at runtime, so don't redefine what it is..."
   ]
  },
  {
   "cell_type": "markdown",
   "metadata": {
    "slideshow": {
     "slide_type": "slide"
    }
   },
   "source": [
    "# Extras"
   ]
  },
  {
   "cell_type": "code",
   "execution_count": 19,
   "metadata": {
    "collapsed": false,
    "slideshow": {
     "slide_type": "subslide"
    }
   },
   "outputs": [
    {
     "name": "stdout",
     "output_type": "stream",
     "text": [
      "False\n"
     ]
    }
   ],
   "source": [
    "# decorator used on a class\n",
    "from functools import total_ordering\n",
    "\n",
    "@total_ordering\n",
    "class Person(object):\n",
    "    def __init__(self, name, id_number):\n",
    "        self.name = name\n",
    "        self.id_number = id_number\n",
    "\n",
    "    def __eq__(self, other):\n",
    "        return self.name == other.name and self.id_number == self.id_number\n",
    "\n",
    "    def __lt__(self, other):\n",
    "        return (self.name, self.id_number) < (other.name, other.id_number)\n",
    "    \n",
    "print(Person('John', 4) > Person('Sandy', 5))"
   ]
  },
  {
   "cell_type": "code",
   "execution_count": 14,
   "metadata": {
    "collapsed": true,
    "slideshow": {
     "slide_type": "subslide"
    }
   },
   "outputs": [],
   "source": [
    "# decorator written as a class"
   ]
  },
  {
   "cell_type": "code",
   "execution_count": 15,
   "metadata": {
    "collapsed": true,
    "slideshow": {
     "slide_type": "subslide"
    }
   },
   "outputs": [],
   "source": [
    "# decorator passing args to the wrapped function\n",
    "\n",
    "# be careful!\n",
    "# the ordering of args passed to wrapped functions is surprising at first"
   ]
  },
  {
   "cell_type": "markdown",
   "metadata": {
    "slideshow": {
     "slide_type": "slide"
    }
   },
   "source": [
    "<center><h1>Thanks!</h1></center>\n",
    "\n",
    "slides @ [github.com/lutostag/talks](https://github.com/lutostag/talks)\n",
    "\n",
    "idea for example from [FreshBooks DevBlog](https://www.freshbooks.com/developers/blog/logging-actions-with-python-decorators-part-i-decorating-logged-functions)\n",
    "\n",
    "Further reading:\n",
    "* https://github.com/lord63/awesome-python-decorator\n",
    "* https://wiki.python.org/moin/PythonDecorators\n",
    "* https://www.python.org/dev/peps/pep-0318/\n",
    "* https://www.artima.com/weblogs/viewpost.jsp?thread=240845"
   ]
  }
 ],
 "metadata": {
  "celltoolbar": "Slideshow",
  "kernelspec": {
   "display_name": "Python 3",
   "language": "python",
   "name": "python3"
  }
 },
 "nbformat": 4,
 "nbformat_minor": 2
}
